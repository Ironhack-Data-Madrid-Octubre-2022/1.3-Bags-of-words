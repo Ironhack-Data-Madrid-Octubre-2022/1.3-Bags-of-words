{
 "cells": [
  {
   "cell_type": "markdown",
   "metadata": {
    "toc": true
   },
   "source": [
    "<h1>Table of Contents<span class=\"tocSkip\"></span></h1>\n",
    "<div class=\"toc\"><ul class=\"toc-item\"></ul></div>"
   ]
  },
  {
   "cell_type": "markdown",
   "metadata": {},
   "source": [
    "Now you want to improve your previous solution by removing the stop words from the corpus. The idea is you only want to add terms that are not in the `stop_words` list to the `bag_of_words` array.\n",
    "\n",
    "Requirements:\n",
    "\n",
    "1. Move all your previous codes from `main.ipynb` to the cell below.\n",
    "1. Improve your solution by ignoring stop words in `bag_of_words`.\n",
    "\n",
    "After you're done, your `bag_of_words` should be:\n",
    "\n",
    "```['ironhack', 'is', 'cool', 'love', 'am', 'student', 'at']```\n",
    "\n",
    "And your `term_freq` should be:\n",
    "\n",
    "```[[1, 1, 1, 0, 0, 0, 0], [1, 0, 0, 1, 0, 0, 0], [1, 0, 0, 0, 1, 1, 1]]```"
   ]
  },
  {
   "cell_type": "code",
   "execution_count": 18,
   "metadata": {},
   "outputs": [
    {
     "name": "stdout",
     "output_type": "stream",
     "text": [
      "no\n"
     ]
    }
   ],
   "source": [
    "\n",
    "\n",
    "stop_words = ['all', 'six', 'less', 'being', 'indeed', 'over', 'move', 'anyway', 'fifty', 'four',\n",
    "              'not', 'own', 'through', 'yourselves', 'go', 'where', 'mill', 'only', 'find', 'before', \n",
    "              'one', 'whose', 'system', 'how', 'somewhere', 'with', 'thick', 'show', 'had', 'enough', \n",
    "              'should', 'to', 'must', 'whom', 'seeming', 'under', 'ours', 'has', 'might', 'thereafter', \n",
    "              'latterly', 'do', 'them', 'his', 'around', 'than', 'get', 'very', 'de', 'none', 'cannot', \n",
    "              'every', 'whether', 'they', 'front', 'during', 'thus', 'now', 'him', 'nor', 'name', 'several', \n",
    "              'hereafter', 'always', 'who', 'cry', 'whither', 'this', 'someone', 'either', 'each', 'become',\n",
    "              'thereupon', 'sometime', 'side', 'two', 'therein', 'twelve', 'because', 'often', 'ten', 'our',\n",
    "              'eg', 'some', 'back', 'up', 'namely', 'towards', 'are', 'further', 'beyond', 'ourselves', 'yet',\n",
    "              'out', 'even', 'will', 'what', 'still', 'for', 'bottom', 'mine', 'since', 'please', 'forty',\n",
    "              'per', 'its', 'everything', 'behind', 'un', 'above', 'between', 'it', 'neither', 'seemed', \n",
    "              'ever', 'across', 'she', 'somehow', 'be', 'we', 'full', 'never', 'sixty', 'however', 'here', \n",
    "              'otherwise', 'were', 'whereupon', 'nowhere', 'although', 'found', 'alone', 're', 'along',\n",
    "              'fifteen', 'by', 'both', 'about', 'last', 'would', 'anything', 'via', 'many', 'could',\n",
    "              'thence', 'put', 'against', 'keep', 'etc', 'amount', 'became', 'ltd', 'hence', 'onto',\n",
    "              'or', 'con', 'among', 'already', 'co', 'afterwards', 'formerly', 'within', 'seems', \n",
    "              'into', 'others', 'while', 'whatever', 'except', 'down', 'hers', 'everyone', 'done',\n",
    "              'least', 'another', 'whoever', 'moreover', 'couldnt', 'throughout', 'anyhow', 'yourself',\n",
    "              'three', 'from', 'her', 'few', 'together', 'top', 'there', 'due', 'been', 'next', 'anyone',\n",
    "              'eleven', 'much', 'call', 'therefore', 'interest', 'then', 'thru', 'themselves', 'hundred',\n",
    "              'was', 'sincere', 'empty', 'more', 'himself', 'elsewhere', 'mostly', 'on', 'fire', 'am',\n",
    "              'becoming', 'hereby', 'amongst', 'else', 'part', 'everywhere', 'too', 'herself', 'former', \n",
    "              'those', 'he', 'me', 'myself', 'made', 'twenty', 'these', 'bill', 'cant', 'us', \n",
    "              'until', 'besides', 'nevertheless', 'below', 'anywhere', 'nine', 'can', 'of', \n",
    "              'your', 'toward', 'my', 'something', 'and', 'whereafter', 'whenever', 'give', \n",
    "              'almost', 'wherever', 'is', 'describe', 'beforehand', 'herein', 'an', 'as', 'itself',\n",
    "              'at', 'have', 'in', 'seem', 'whence', 'ie', 'any', 'fill', 'again', 'hasnt', 'inc',\n",
    "              'thereby', 'thin', 'no', 'perhaps', 'latter', 'meanwhile', 'when', 'detail', 'same',\n",
    "              'wherein', 'beside', 'also', 'that', 'other', 'take', 'which', 'becomes', 'you', 'if',\n",
    "              'nobody', 'see', 'though', 'may', 'after', 'upon', 'most', 'hereupon', 'eight', 'but', \n",
    "              'serious', 'nothing', 'such', 'why', 'a', 'off', 'whereby', 'third', 'i', 'whole', 'noone',\n",
    "              'sometimes', 'well', 'amoungst', 'yours', 'their', 'rather', 'without', 'so', 'five', 'the', 'first', 'whereas', 'once']\n",
    "\n",
    "if \"o\" in stop_words:\n",
    "    print(\"Hola\")\n",
    "else:\n",
    "    print(\"no\")\n",
    "# Write your code below"
   ]
  },
  {
   "cell_type": "code",
   "execution_count": 9,
   "metadata": {},
   "outputs": [
    {
     "name": "stdout",
     "output_type": "stream",
     "text": [
      "['ironhack', 'cool', 'love', 'student']\n",
      "[[1, 1, 0, 0], [1, 0, 1, 0], [1, 0, 0, 1]]\n"
     ]
    }
   ],
   "source": [
    "#He buscado y los terminos que me faltan aparecen tb en el stop_words tanto is, i, at que si aparecen en la solución\n",
    "docs = ['doc1.txt', 'doc2.txt', 'doc3.txt']\n",
    "corpus = []\n",
    "\n",
    "for i in docs:\n",
    "    lector=open(i,'r')\n",
    "    corpus.append(str(lector.readline()).replace(\".\",\"\").lower())\n",
    "    \n",
    "bag_of_words = []\n",
    "\n",
    "for frase in corpus:\n",
    "    \n",
    "    for palabra in frase.split():\n",
    "        \n",
    "        if not palabra in bag_of_words and not palabra in stop_words:\n",
    "            bag_of_words.append(palabra)\n",
    "            \n",
    "print(bag_of_words)\n",
    "            \n",
    "term_freq = []\n",
    "\n",
    "for i in corpus:\n",
    "    tmp=[]\n",
    "    for e in bag_of_words:\n",
    "        if e in i:\n",
    "            tmp.append(1)\n",
    "        else:\n",
    "            tmp.append(0)\n",
    "    term_freq.append((tmp))\n",
    "    \n",
    "print(term_freq)\n"
   ]
  },
  {
   "cell_type": "code",
   "execution_count": null,
   "metadata": {},
   "outputs": [],
   "source": []
  }
 ],
 "metadata": {
  "kernelspec": {
   "display_name": "Python 3.9.12 ('base')",
   "language": "python",
   "name": "python3"
  },
  "language_info": {
   "codemirror_mode": {
    "name": "ipython",
    "version": 3
   },
   "file_extension": ".py",
   "mimetype": "text/x-python",
   "name": "python",
   "nbconvert_exporter": "python",
   "pygments_lexer": "ipython3",
   "version": "3.9.12"
  },
  "toc": {
   "base_numbering": 1,
   "nav_menu": {},
   "number_sections": true,
   "sideBar": true,
   "skip_h1_title": false,
   "title_cell": "Table of Contents",
   "title_sidebar": "Contents",
   "toc_cell": true,
   "toc_position": {},
   "toc_section_display": true,
   "toc_window_display": false
  },
  "varInspector": {
   "cols": {
    "lenName": 16,
    "lenType": 16,
    "lenVar": 40
   },
   "kernels_config": {
    "python": {
     "delete_cmd_postfix": "",
     "delete_cmd_prefix": "del ",
     "library": "var_list.py",
     "varRefreshCmd": "print(var_dic_list())"
    },
    "r": {
     "delete_cmd_postfix": ") ",
     "delete_cmd_prefix": "rm(",
     "library": "var_list.r",
     "varRefreshCmd": "cat(var_dic_list()) "
    }
   },
   "types_to_exclude": [
    "module",
    "function",
    "builtin_function_or_method",
    "instance",
    "_Feature"
   ],
   "window_display": false
  },
  "vscode": {
   "interpreter": {
    "hash": "1551151381e773f0aad4d7f5dd85d557969b09f98d8f1647db122078155b292b"
   }
  }
 },
 "nbformat": 4,
 "nbformat_minor": 2
}
